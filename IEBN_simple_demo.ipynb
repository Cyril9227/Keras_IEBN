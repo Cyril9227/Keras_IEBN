{
 "cells": [
  {
   "cell_type": "code",
   "execution_count": 1,
   "metadata": {},
   "outputs": [
    {
     "name": "stderr",
     "output_type": "stream",
     "text": [
      "Using TensorFlow backend.\n"
     ]
    }
   ],
   "source": [
    "from IEBN.IEBN import BatchAttNorm\n",
    "from keras.models import Model\n",
    "from keras.layers import Conv2D, Dense, GlobalAveragePooling2D, Input\n",
    "import numpy as np"
   ]
  },
  {
   "cell_type": "code",
   "execution_count": 2,
   "metadata": {},
   "outputs": [],
   "source": [
    "# dummy training set\n",
    "X_train = np.array([np.random.rand(64, 64, 3) for _ in range(10)])\n",
    "y_train = np.array([np.random.choice([0, 1]) for _ in range(10)])"
   ]
  },
  {
   "cell_type": "code",
   "execution_count": 3,
   "metadata": {},
   "outputs": [],
   "source": [
    "inp = Input((64, 64, 3))\n",
    "x = Conv2D(kernel_size=(2,2), filters=20, padding=\"same\", activation=\"relu\")(inp)\n",
    "x = BatchAttNorm(momentum=0.99, epsilon=0.001, axis=-1)(x)\n",
    "x = GlobalAveragePooling2D()(x)\n",
    "pred = Dense(1, activation='sigmoid')(x)\n",
    "\n",
    "model = Model(inp, pred)"
   ]
  },
  {
   "cell_type": "code",
   "execution_count": 4,
   "metadata": {},
   "outputs": [],
   "source": [
    "model.compile(\"Adam\", loss=\"binary_crossentropy\")"
   ]
  },
  {
   "cell_type": "code",
   "execution_count": 5,
   "metadata": {},
   "outputs": [
    {
     "name": "stdout",
     "output_type": "stream",
     "text": [
      "_________________________________________________________________\n",
      "Layer (type)                 Output Shape              Param #   \n",
      "=================================================================\n",
      "input_1 (InputLayer)         (None, 64, 64, 3)         0         \n",
      "_________________________________________________________________\n",
      "conv2d_1 (Conv2D)            (None, 64, 64, 20)        260       \n",
      "_________________________________________________________________\n",
      "batch_att_norm_1 (BatchAttNo (None, 64, 64, 20)        80        \n",
      "_________________________________________________________________\n",
      "global_average_pooling2d_2 ( (None, 20)                0         \n",
      "_________________________________________________________________\n",
      "dense_1 (Dense)              (None, 1)                 21        \n",
      "=================================================================\n",
      "Total params: 361\n",
      "Trainable params: 361\n",
      "Non-trainable params: 0\n",
      "_________________________________________________________________\n"
     ]
    }
   ],
   "source": [
    "model.summary()"
   ]
  },
  {
   "cell_type": "code",
   "execution_count": 6,
   "metadata": {},
   "outputs": [
    {
     "name": "stdout",
     "output_type": "stream",
     "text": [
      "Epoch 1/10\n",
      "10/10 [==============================] - 2s 237ms/step - loss: 0.6931\n",
      "Epoch 2/10\n",
      "10/10 [==============================] - 0s 656us/step - loss: 0.6931\n",
      "Epoch 3/10\n",
      "10/10 [==============================] - 0s 1ms/step - loss: 0.6931\n",
      "Epoch 4/10\n",
      "10/10 [==============================] - 0s 716us/step - loss: 0.6931\n",
      "Epoch 5/10\n",
      "10/10 [==============================] - 0s 961us/step - loss: 0.6931\n",
      "Epoch 6/10\n",
      "10/10 [==============================] - 0s 1ms/step - loss: 0.6931\n",
      "Epoch 7/10\n",
      "10/10 [==============================] - 0s 724us/step - loss: 0.6931\n",
      "Epoch 8/10\n",
      "10/10 [==============================] - 0s 840us/step - loss: 0.6931\n",
      "Epoch 9/10\n",
      "10/10 [==============================] - 0s 895us/step - loss: 0.6931\n",
      "Epoch 10/10\n",
      "10/10 [==============================] - 0s 1ms/step - loss: 0.6931\n"
     ]
    },
    {
     "data": {
      "text/plain": [
       "<keras.callbacks.History at 0x7f0d656ef400>"
      ]
     },
     "execution_count": 6,
     "metadata": {},
     "output_type": "execute_result"
    }
   ],
   "source": [
    "model.fit(X_train, y_train, epochs=10)"
   ]
  }
 ],
 "metadata": {
  "kernelspec": {
   "display_name": "Python 3",
   "language": "python",
   "name": "python3"
  },
  "language_info": {
   "codemirror_mode": {
    "name": "ipython",
    "version": 3
   },
   "file_extension": ".py",
   "mimetype": "text/x-python",
   "name": "python",
   "nbconvert_exporter": "python",
   "pygments_lexer": "ipython3",
   "version": "3.5.4"
  }
 },
 "nbformat": 4,
 "nbformat_minor": 2
}
